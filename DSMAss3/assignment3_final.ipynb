{
 "cells": [
  {
   "cell_type": "code",
   "execution_count": 9,
   "metadata": {},
   "outputs": [],
   "source": [
    "import numpy as np\n",
    "import pandas as pd\n",
    "from sklearn.model_selection import train_test_split\n",
    "from sklearn.preprocessing import StandardScaler, PolynomialFeatures, RobustScaler\n",
    "from sklearn.linear_model import Ridge\n",
    "from sklearn.model_selection import GridSearchCV\n",
    "import matplotlib.pyplot as plt\n",
    "from sklearn.pipeline import Pipeline\n",
    "from sklearn.kernel_ridge import KernelRidge\n",
    "from sklearn.decomposition import PCA\n",
    "from sklearn.linear_model import BayesianRidge, LinearRegression\n",
    "from sklearn.neighbors import KNeighborsRegressor\n",
    "from sklearn.gaussian_process import GaussianProcessRegressor\n",
    "from sklearn.gaussian_process.kernels import RBF, Matern, RationalQuadratic, ExpSineSquared\n",
    "from sklearn.model_selection import GridSearchCV\n",
    "from supporting import remove_outliers_y, assign_val_data_to_clusters_with_labels,assign_test_data_to_clusters_with_labels, tune_ridge_regression, plot_clusters_features_vs_target, divide_data_by_kmeans_distance, remove_outliers, standardize_data, create_polynomial_features, apply_pca, rmse, tune_kernel_ridge_regression, tune_gaussian_process_regression"
   ]
  },
  {
   "cell_type": "code",
   "execution_count": 32,
   "metadata": {},
   "outputs": [
    {
     "name": "stdout",
     "output_type": "stream",
     "text": [
      "1\n"
     ]
    }
   ],
   "source": [
    "# importing the data\n",
    "training_data = np.genfromtxt(\"training_data.csv\", delimiter=',')\n",
    "X = training_data[:,:-1]\n",
    "y = training_data[:,-1]\n",
    "\n",
    "X, y = remove_outliers_y(X, y, 50)"
   ]
  },
  {
   "cell_type": "code",
   "execution_count": 41,
   "metadata": {},
   "outputs": [],
   "source": [
    "#####################################################\n",
    "# USE THIS CELL TO TRAIN AND CREATE YOUR BEST MODEL # \n",
    "#####################################################\n",
    "\n",
    "# Data Preprocessing\n",
    "\n",
    "# based on our previous analysis and the random_state we set for KMeans clustering we know that:\n",
    "# cluster 0 should be solved using Averaging (mean of features 2 > 61)\n",
    "# cluster 1 should be solved using Bayesian Ridge (mean of features 2 <= 61)\n",
    "\n",
    "def BayesianTrain(X_train, y_train):\n",
    "    model = BayesianRidge()\n",
    "    return model.fit(X_train, y_train)\n",
    "\n",
    "def AveragingTrain(X_train, y_train):\n",
    "    # Create the KNN Regressor model\n",
    "    model_knr =  KNeighborsRegressor(n_neighbors=10, metric = 'manhattan')\n",
    "    model_g = GaussianProcessRegressor(alpha=0.1, kernel=RationalQuadratic(alpha=0.1, length_scale=50), normalize_y= True)\n",
    "\n",
    "    scaler = StandardScaler()\n",
    "\n",
    "    # Fit the scaler on the training data and transform both the training and testing data\n",
    "    X_train_knr = scaler.fit_transform(X_train)\n",
    "\n",
    "    pca_transformer = PCA(n_components=0.97)\n",
    "    # Fit the PCA transformer on the training data and transform both the training and testing data\n",
    "    X_train_knr = pca_transformer.fit_transform(X_train_knr)\n",
    "\n",
    "    poly_transformer = PolynomialFeatures(degree=3, include_bias=False)\n",
    "\n",
    "    # Fit the transformer on the training data and transform both the training and testing data\n",
    "    X_train_g = poly_transformer.fit_transform(X_train)\n",
    "\n",
    "    # Fit the model to the training data\n",
    "    return model_knr.fit(X_train_knr, y_train), model_g.fit(X_train_g, y_train), scaler, pca_transformer, poly_transformer\n",
    "\n",
    "def training_model(X, y, random_state=40):\n",
    "    # Divide the data using KMeans\n",
    "    (X_train_clusters, y_train_clusters), clusters, labels = divide_data_by_kmeans_distance(\n",
    "        X, y, n_clusters=2, random_state=random_state\n",
    "    )\n",
    "\n",
    "    # Calculate the mean of the second feature for each cluster\n",
    "    cluster_0_mean = clusters[0][1]\n",
    "    cluster_1_mean = clusters[1][1]\n",
    "\n",
    "    # This condition was only inserted to make sure that there was no issue in labels' assignment\n",
    "    # Ensure that cluster 1 has a mean of the second feature below 61 and cluster 2 above 61\n",
    "    if cluster_0_mean < 61 and cluster_1_mean > 61:\n",
    "        print('Correct')\n",
    "        X1_train, y1_train = X_train_clusters[0], y_train_clusters[0]\n",
    "        X2_train, y2_train = X_train_clusters[1], y_train_clusters[1]\n",
    "    elif cluster_1_mean < 61 and cluster_0_mean > 61:\n",
    "        print('Had to switch')\n",
    "        X1_train, y1_train = X_train_clusters[1], y_train_clusters[1]\n",
    "        X2_train, y2_train = X_train_clusters[0], y_train_clusters[0]\n",
    "        labels = [1, 0]\n",
    "    else:\n",
    "        raise ValueError(\"The clusters do not meet the expected conditions for the second feature.\")\n",
    "\n",
    "    # Train the models\n",
    "    best_model_knr1, best_model_g1, scaler, pca_transformer, poly_transformer = AveragingTrain(X1_train, y1_train)\n",
    "    best_model2 = BayesianTrain(X2_train, y2_train)\n",
    "\n",
    "    def predict(X_test):\n",
    "        \n",
    "        # Get the clustered test data and their original indices\n",
    "        X1_test, X2_test, idx1, idx2 = assign_test_data_to_clusters_with_labels(X_test, clusters, labels)\n",
    "\n",
    "        X1_test_knr = scaler.transform(X1_test)\n",
    "\n",
    "        X1_test_knr = pca_transformer.transform(X1_test_knr)\n",
    "\n",
    "        # Fit the transformer on the training data and transform both the training and testing data\n",
    "        X1_test_g = poly_transformer.transform(X1_test)\n",
    "\n",
    "        # Handle case where no data is assigned to one of the clusters\n",
    "        if X2_test.shape[0] == 0:\n",
    "            # If no data is assigned to X2_test, treat the entire set as belonging to cluster 1 (KNR and GPR)\n",
    "            X2_test = X1_test\n",
    "            idx2 = idx1  # Update indices to ensure consistency\n",
    "        elif X1_test.shape[0] == 0:\n",
    "            # If no data is assigned to X1_test, treat the entire set as belonging to cluster 2 (Bayesian Ridge)\n",
    "            X1_test = X2_test\n",
    "            idx1 = idx2  # Update indices to ensure consistency\n",
    "\n",
    "        # Make predictions for each cluster\n",
    "        y2_pred = best_model2.predict(X2_test)  # Predictions for Bayesian Ridge\n",
    "        y1_pred_g = best_model_g1.predict(X1_test_g)  # Predictions for Gaussian Process\n",
    "        y1_pred_knr = best_model_knr1.predict(X1_test_knr)  # Predictions for KNN Regressor\n",
    "\n",
    "        # Calculate inverse variances and handle case where variance is zero\n",
    "        inv_var_knr = 1 / np.var(y1_pred_knr) if np.var(y1_pred_knr) != 0 else 0\n",
    "        inv_var_g = 1 / np.var(y1_pred_g) if np.var(y1_pred_g) != 0 else 0\n",
    "\n",
    "        total_variance = inv_var_knr + inv_var_g if inv_var_knr + inv_var_g != 0 else 1  # Avoid division by zero\n",
    "\n",
    "        w_knr = inv_var_knr / total_variance\n",
    "        w_g = inv_var_g / total_variance\n",
    "\n",
    "        # Initialize a full array for y predictions\n",
    "        y_pred_full = np.empty(X_test.shape[0])\n",
    "\n",
    "        # Place predictions back in their original order\n",
    "        if X1_test.shape[0] > 0:\n",
    "            y_pred_full[idx1] = y1_pred_knr * w_knr + y1_pred_g * w_g\n",
    "        if X2_test.shape[0] > 0:\n",
    "            y_pred_full[idx2] = y2_pred\n",
    "\n",
    "        return y_pred_full, y1_pred_knr, y2_pred, idx1, idx2\n",
    "\n",
    "\n",
    "    return predict"
   ]
  },
  {
   "cell_type": "code",
   "execution_count": 42,
   "metadata": {},
   "outputs": [
    {
     "name": "stdout",
     "output_type": "stream",
     "text": [
      "Correct\n"
     ]
    },
    {
     "name": "stderr",
     "output_type": "stream",
     "text": [
      "/Users/paolocadei/opt/anaconda3/lib/python3.9/site-packages/sklearn/gaussian_process/kernels.py:430: ConvergenceWarning: The optimal value found for dimension 0 of parameter length_scale is close to the specified upper bound 100000.0. Increasing the bound and calling fit again may find a better value.\n",
      "  warnings.warn(\n"
     ]
    },
    {
     "name": "stdout",
     "output_type": "stream",
     "text": [
      "Iteration 1 - Full RMSE: 2.824229643448717, Cluster 1 RMSE: 3.9495945858016763, Cluster 2 RMSE: 7.241879337284717e-10\n",
      "Iteration 1 - Train RMSE: 2.5825123124811165, Cluster 1 RMSE: 4.096381198291937, Cluster 2 RMSE: 7.516078894413401e-10\n",
      "0.6829116150518442\n",
      "0.7413194341251914\n",
      "Correct\n"
     ]
    },
    {
     "name": "stderr",
     "output_type": "stream",
     "text": [
      "/Users/paolocadei/opt/anaconda3/lib/python3.9/site-packages/sklearn/gaussian_process/kernels.py:430: ConvergenceWarning: The optimal value found for dimension 0 of parameter length_scale is close to the specified upper bound 100000.0. Increasing the bound and calling fit again may find a better value.\n",
      "  warnings.warn(\n"
     ]
    },
    {
     "name": "stdout",
     "output_type": "stream",
     "text": [
      "Iteration 2 - Full RMSE: 1.46135696332039, Cluster 1 RMSE: 2.189875372981512, Cluster 2 RMSE: 1.1373972548065722e-09\n",
      "Iteration 2 - Train RMSE: 2.665667469981313, Cluster 1 RMSE: 4.2305309156975355, Cluster 2 RMSE: 8.710311690444489e-10\n",
      "0.8155017102441486\n",
      "0.765350490992157\n",
      "Correct\n"
     ]
    },
    {
     "name": "stderr",
     "output_type": "stream",
     "text": [
      "/Users/paolocadei/opt/anaconda3/lib/python3.9/site-packages/sklearn/gaussian_process/kernels.py:430: ConvergenceWarning: The optimal value found for dimension 0 of parameter length_scale is close to the specified upper bound 100000.0. Increasing the bound and calling fit again may find a better value.\n",
      "  warnings.warn(\n"
     ]
    },
    {
     "name": "stdout",
     "output_type": "stream",
     "text": [
      "Iteration 3 - Full RMSE: 2.9853980285291337, Cluster 1 RMSE: 3.9958735630744693, Cluster 2 RMSE: 1.063500167242289e-09\n",
      "Iteration 3 - Train RMSE: 2.3827513368577637, Cluster 1 RMSE: 3.905139559132285, Cluster 2 RMSE: 7.868663293761112e-10\n",
      "0.5657610384975836\n",
      "0.7922623588713554\n",
      "Had to switch\n"
     ]
    },
    {
     "name": "stderr",
     "output_type": "stream",
     "text": [
      "/Users/paolocadei/opt/anaconda3/lib/python3.9/site-packages/sklearn/gaussian_process/kernels.py:430: ConvergenceWarning: The optimal value found for dimension 0 of parameter length_scale is close to the specified upper bound 100000.0. Increasing the bound and calling fit again may find a better value.\n",
      "  warnings.warn(\n"
     ]
    },
    {
     "name": "stdout",
     "output_type": "stream",
     "text": [
      "Iteration 4 - Full RMSE: 1.9934127689417112, Cluster 1 RMSE: 2.9931950450281546, Cluster 2 RMSE: 1.102433106809873e-09\n",
      "Iteration 4 - Train RMSE: 2.7837663341901453, Cluster 1 RMSE: 4.32147574301706, Cluster 2 RMSE: 8.748078026134234e-10\n",
      "0.7560342941738248\n",
      "0.7301700194533417\n",
      "Had to switch\n"
     ]
    },
    {
     "name": "stderr",
     "output_type": "stream",
     "text": [
      "/Users/paolocadei/opt/anaconda3/lib/python3.9/site-packages/sklearn/gaussian_process/kernels.py:430: ConvergenceWarning: The optimal value found for dimension 0 of parameter length_scale is close to the specified upper bound 100000.0. Increasing the bound and calling fit again may find a better value.\n",
      "  warnings.warn(\n"
     ]
    },
    {
     "name": "stdout",
     "output_type": "stream",
     "text": [
      "Iteration 5 - Full RMSE: 4.051027736429689, Cluster 1 RMSE: 5.391459993708171, Cluster 2 RMSE: 8.651808799913307e-10\n",
      "Iteration 5 - Train RMSE: 2.266056367717923, Cluster 1 RMSE: 3.630872360554677, Cluster 2 RMSE: 7.996087978542498e-10\n",
      "0.5346409338862965\n",
      "0.7708351355016583\n",
      "Correct\n"
     ]
    },
    {
     "name": "stderr",
     "output_type": "stream",
     "text": [
      "/Users/paolocadei/opt/anaconda3/lib/python3.9/site-packages/sklearn/gaussian_process/kernels.py:430: ConvergenceWarning: The optimal value found for dimension 0 of parameter length_scale is close to the specified upper bound 100000.0. Increasing the bound and calling fit again may find a better value.\n",
      "  warnings.warn(\n"
     ]
    },
    {
     "name": "stdout",
     "output_type": "stream",
     "text": [
      "Iteration 6 - Full RMSE: 2.295742170605521, Cluster 1 RMSE: 3.05864163992301, Cluster 2 RMSE: 9.218311601950641e-10\n",
      "Iteration 6 - Train RMSE: 2.474206758920042, Cluster 1 RMSE: 4.087689538378987, Cluster 2 RMSE: 7.566101351059524e-10\n",
      "0.6747466388146176\n",
      "0.786771578243767\n",
      "Correct\n"
     ]
    },
    {
     "name": "stderr",
     "output_type": "stream",
     "text": [
      "/Users/paolocadei/opt/anaconda3/lib/python3.9/site-packages/sklearn/gaussian_process/kernels.py:430: ConvergenceWarning: The optimal value found for dimension 0 of parameter length_scale is close to the specified upper bound 100000.0. Increasing the bound and calling fit again may find a better value.\n",
      "  warnings.warn(\n"
     ]
    },
    {
     "name": "stdout",
     "output_type": "stream",
     "text": [
      "Iteration 7 - Full RMSE: 3.645701333621, Cluster 1 RMSE: 5.175998483141025, Cluster 2 RMSE: 8.15898800561053e-10\n",
      "Iteration 7 - Train RMSE: 2.5239779610804907, Cluster 1 RMSE: 3.9639691642030868, Cluster 2 RMSE: 8.361598101296928e-10\n",
      "0.584832914700134\n",
      "0.7283899846730945\n",
      "Had to switch\n"
     ]
    },
    {
     "name": "stderr",
     "output_type": "stream",
     "text": [
      "/Users/paolocadei/opt/anaconda3/lib/python3.9/site-packages/sklearn/gaussian_process/kernels.py:430: ConvergenceWarning: The optimal value found for dimension 0 of parameter length_scale is close to the specified upper bound 100000.0. Increasing the bound and calling fit again may find a better value.\n",
      "  warnings.warn(\n"
     ]
    },
    {
     "name": "stdout",
     "output_type": "stream",
     "text": [
      "Iteration 8 - Full RMSE: 1.8975612702146305, Cluster 1 RMSE: 2.67127524264127, Cluster 2 RMSE: 7.600403661967822e-10\n",
      "Iteration 8 - Train RMSE: 2.5838821494374935, Cluster 1 RMSE: 4.183039390863106, Cluster 2 RMSE: 7.698148556763022e-10\n",
      "0.7896560335625553\n",
      "0.7654256865458222\n",
      "Had to switch\n"
     ]
    },
    {
     "name": "stderr",
     "output_type": "stream",
     "text": [
      "/Users/paolocadei/opt/anaconda3/lib/python3.9/site-packages/sklearn/gaussian_process/kernels.py:430: ConvergenceWarning: The optimal value found for dimension 0 of parameter length_scale is close to the specified upper bound 100000.0. Increasing the bound and calling fit again may find a better value.\n",
      "  warnings.warn(\n"
     ]
    },
    {
     "name": "stdout",
     "output_type": "stream",
     "text": [
      "Iteration 9 - Full RMSE: 3.0562187019636564, Cluster 1 RMSE: 4.157560986916991, Cluster 2 RMSE: 8.299114578958035e-10\n",
      "Iteration 9 - Train RMSE: 2.4389975039823284, Cluster 1 RMSE: 4.007955432572979, Cluster 2 RMSE: 7.506279667270186e-10\n",
      "0.6181119118561001\n",
      "0.7711978733383182\n",
      "Correct\n"
     ]
    },
    {
     "name": "stderr",
     "output_type": "stream",
     "text": [
      "/Users/paolocadei/opt/anaconda3/lib/python3.9/site-packages/sklearn/gaussian_process/kernels.py:430: ConvergenceWarning: The optimal value found for dimension 0 of parameter length_scale is close to the specified upper bound 100000.0. Increasing the bound and calling fit again may find a better value.\n",
      "  warnings.warn(\n"
     ]
    },
    {
     "name": "stdout",
     "output_type": "stream",
     "text": [
      "Iteration 10 - Full RMSE: 1.6350948111366386, Cluster 1 RMSE: 2.3568929481222787, Cluster 2 RMSE: 1.0015721924794647e-09\n",
      "Iteration 10 - Train RMSE: 2.6252883047068956, Cluster 1 RMSE: 4.167406399763741, Cluster 2 RMSE: 8.562810166938125e-10\n",
      "0.7967906592171373\n",
      "0.7680632153734942\n",
      "Had to switch\n"
     ]
    },
    {
     "name": "stderr",
     "output_type": "stream",
     "text": [
      "/Users/paolocadei/opt/anaconda3/lib/python3.9/site-packages/sklearn/gaussian_process/kernels.py:430: ConvergenceWarning: The optimal value found for dimension 0 of parameter length_scale is close to the specified upper bound 100000.0. Increasing the bound and calling fit again may find a better value.\n",
      "  warnings.warn(\n"
     ]
    },
    {
     "name": "stdout",
     "output_type": "stream",
     "text": [
      "Iteration 11 - Full RMSE: 3.8119975094318046, Cluster 1 RMSE: 5.2778694813108125, Cluster 2 RMSE: 1.2387928511999124e-09\n",
      "Iteration 11 - Train RMSE: 2.269124448469503, Cluster 1 RMSE: 3.669644609121687, Cluster 2 RMSE: 9.192343784220265e-10\n",
      "0.5460387219550145\n",
      "0.7805981436028255\n",
      "Had to switch\n"
     ]
    },
    {
     "name": "stderr",
     "output_type": "stream",
     "text": [
      "/Users/paolocadei/opt/anaconda3/lib/python3.9/site-packages/sklearn/gaussian_process/kernels.py:430: ConvergenceWarning: The optimal value found for dimension 0 of parameter length_scale is close to the specified upper bound 100000.0. Increasing the bound and calling fit again may find a better value.\n",
      "  warnings.warn(\n"
     ]
    },
    {
     "name": "stdout",
     "output_type": "stream",
     "text": [
      "Iteration 12 - Full RMSE: 2.879677797770808, Cluster 1 RMSE: 3.8693928360657344, Cluster 2 RMSE: 8.130422730295024e-10\n",
      "Iteration 12 - Train RMSE: 2.3576404305164655, Cluster 1 RMSE: 3.9188398660146673, Cluster 2 RMSE: 7.518304764059747e-10\n",
      "0.5211107520337773\n",
      "0.804114399110279\n",
      "Correct\n"
     ]
    },
    {
     "name": "stderr",
     "output_type": "stream",
     "text": [
      "/Users/paolocadei/opt/anaconda3/lib/python3.9/site-packages/sklearn/gaussian_process/kernels.py:430: ConvergenceWarning: The optimal value found for dimension 0 of parameter length_scale is close to the specified upper bound 100000.0. Increasing the bound and calling fit again may find a better value.\n",
      "  warnings.warn(\n"
     ]
    },
    {
     "name": "stdout",
     "output_type": "stream",
     "text": [
      "Iteration 13 - Full RMSE: 2.4776600991116573, Cluster 1 RMSE: 3.5570946839395057, Cluster 2 RMSE: 1.0952038573591032e-09\n",
      "Iteration 13 - Train RMSE: 2.51236108900905, Cluster 1 RMSE: 3.9944084709209813, Cluster 2 RMSE: 8.580087553303854e-10\n",
      "0.6688469819016447\n",
      "0.7744945598604149\n",
      "Correct\n"
     ]
    },
    {
     "name": "stderr",
     "output_type": "stream",
     "text": [
      "/Users/paolocadei/opt/anaconda3/lib/python3.9/site-packages/sklearn/gaussian_process/kernels.py:430: ConvergenceWarning: The optimal value found for dimension 0 of parameter length_scale is close to the specified upper bound 100000.0. Increasing the bound and calling fit again may find a better value.\n",
      "  warnings.warn(\n"
     ]
    },
    {
     "name": "stdout",
     "output_type": "stream",
     "text": [
      "Iteration 14 - Full RMSE: 3.7737193722655, Cluster 1 RMSE: 5.4254536320577165, Cluster 2 RMSE: 8.758821086209963e-10\n",
      "Iteration 14 - Train RMSE: 2.3861486276576085, Cluster 1 RMSE: 3.757656793742059, Cluster 2 RMSE: 8.513454155206636e-10\n",
      "0.5640775905032157\n",
      "0.7544438815070645\n",
      "Correct\n"
     ]
    },
    {
     "name": "stderr",
     "output_type": "stream",
     "text": [
      "/Users/paolocadei/opt/anaconda3/lib/python3.9/site-packages/sklearn/gaussian_process/kernels.py:430: ConvergenceWarning: The optimal value found for dimension 0 of parameter length_scale is close to the specified upper bound 100000.0. Increasing the bound and calling fit again may find a better value.\n",
      "  warnings.warn(\n"
     ]
    },
    {
     "name": "stdout",
     "output_type": "stream",
     "text": [
      "Iteration 15 - Full RMSE: 2.4948043484445304, Cluster 1 RMSE: 3.461478571096337, Cluster 2 RMSE: 9.348717785763981e-10\n",
      "Iteration 15 - Train RMSE: 2.4785716831150317, Cluster 1 RMSE: 4.071022879683643, Cluster 2 RMSE: 7.782013925056108e-10\n",
      "0.6196316170260241\n",
      "0.7860531851343713\n",
      "Correct\n"
     ]
    },
    {
     "name": "stderr",
     "output_type": "stream",
     "text": [
      "/Users/paolocadei/opt/anaconda3/lib/python3.9/site-packages/sklearn/gaussian_process/kernels.py:430: ConvergenceWarning: The optimal value found for dimension 0 of parameter length_scale is close to the specified upper bound 100000.0. Increasing the bound and calling fit again may find a better value.\n",
      "  warnings.warn(\n"
     ]
    },
    {
     "name": "stdout",
     "output_type": "stream",
     "text": [
      "Iteration 16 - Full RMSE: 1.3237283279932426, Cluster 1 RMSE: 1.7958979987425323, Cluster 2 RMSE: 7.373707154056069e-10\n",
      "Iteration 16 - Train RMSE: 2.4720632094362447, Cluster 1 RMSE: 4.0924112246813715, Cluster 2 RMSE: 7.83318332791218e-10\n",
      "0.7158232962951232\n",
      "0.8079292822401358\n",
      "Had to switch\n"
     ]
    },
    {
     "name": "stderr",
     "output_type": "stream",
     "text": [
      "/Users/paolocadei/opt/anaconda3/lib/python3.9/site-packages/sklearn/gaussian_process/kernels.py:430: ConvergenceWarning: The optimal value found for dimension 0 of parameter length_scale is close to the specified upper bound 100000.0. Increasing the bound and calling fit again may find a better value.\n",
      "  warnings.warn(\n"
     ]
    },
    {
     "name": "stdout",
     "output_type": "stream",
     "text": [
      "Iteration 17 - Full RMSE: 5.20179351975563, Cluster 1 RMSE: 6.934838553488489, Cluster 2 RMSE: 1.112587081955494e-09\n",
      "Iteration 17 - Train RMSE: 2.1719639215510207, Cluster 1 RMSE: 3.412664477153698, Cluster 2 RMSE: 8.238762329046133e-10\n",
      "0.4537950994951391\n",
      "0.7312698600506901\n",
      "Correct\n"
     ]
    },
    {
     "name": "stderr",
     "output_type": "stream",
     "text": [
      "/Users/paolocadei/opt/anaconda3/lib/python3.9/site-packages/sklearn/gaussian_process/kernels.py:430: ConvergenceWarning: The optimal value found for dimension 0 of parameter length_scale is close to the specified upper bound 100000.0. Increasing the bound and calling fit again may find a better value.\n",
      "  warnings.warn(\n"
     ]
    },
    {
     "name": "stdout",
     "output_type": "stream",
     "text": [
      "Iteration 18 - Full RMSE: 4.247873070951267, Cluster 1 RMSE: 5.954007258825671, Cluster 2 RMSE: 8.663508054497434e-10\n",
      "Iteration 18 - Train RMSE: 2.0932246187858006, Cluster 1 RMSE: 3.4223328884518724, Cluster 2 RMSE: 8.34044487950501e-10\n",
      "0.46330367595860267\n",
      "0.8085238469105192\n",
      "Had to switch\n"
     ]
    },
    {
     "name": "stderr",
     "output_type": "stream",
     "text": [
      "/Users/paolocadei/opt/anaconda3/lib/python3.9/site-packages/sklearn/gaussian_process/kernels.py:430: ConvergenceWarning: The optimal value found for dimension 0 of parameter length_scale is close to the specified upper bound 100000.0. Increasing the bound and calling fit again may find a better value.\n",
      "  warnings.warn(\n"
     ]
    },
    {
     "name": "stdout",
     "output_type": "stream",
     "text": [
      "Iteration 19 - Full RMSE: 4.112056190582578, Cluster 1 RMSE: 5.593816478606965, Cluster 2 RMSE: 8.732963729491521e-10\n",
      "Iteration 19 - Train RMSE: 2.2866769142485346, Cluster 1 RMSE: 3.668976614509924, Cluster 2 RMSE: 7.935550084549498e-10\n",
      "0.5440827528545732\n",
      "0.7564329897900981\n",
      "Correct\n"
     ]
    },
    {
     "name": "stderr",
     "output_type": "stream",
     "text": [
      "/Users/paolocadei/opt/anaconda3/lib/python3.9/site-packages/sklearn/gaussian_process/kernels.py:430: ConvergenceWarning: The optimal value found for dimension 0 of parameter length_scale is close to the specified upper bound 100000.0. Increasing the bound and calling fit again may find a better value.\n",
      "  warnings.warn(\n"
     ]
    },
    {
     "name": "stdout",
     "output_type": "stream",
     "text": [
      "Iteration 20 - Full RMSE: 3.167272650414763, Cluster 1 RMSE: 4.3871392622522976, Cluster 2 RMSE: 9.908266907762564e-10\n",
      "Iteration 20 - Train RMSE: 2.265059104713941, Cluster 1 RMSE: 3.7337654320415505, Cluster 2 RMSE: 8.502845620962383e-10\n",
      "0.46473377884622646\n",
      "0.8161755381761214\n",
      "Correct\n"
     ]
    },
    {
     "name": "stderr",
     "output_type": "stream",
     "text": [
      "/Users/paolocadei/opt/anaconda3/lib/python3.9/site-packages/sklearn/gaussian_process/kernels.py:430: ConvergenceWarning: The optimal value found for dimension 0 of parameter length_scale is close to the specified upper bound 100000.0. Increasing the bound and calling fit again may find a better value.\n",
      "  warnings.warn(\n"
     ]
    },
    {
     "name": "stdout",
     "output_type": "stream",
     "text": [
      "Iteration 21 - Full RMSE: 2.503081502611301, Cluster 1 RMSE: 3.686984828325743, Cluster 2 RMSE: 9.274477107783919e-10\n",
      "Iteration 21 - Train RMSE: 2.6107035455597827, Cluster 1 RMSE: 4.144732205999569, Cluster 2 RMSE: 8.540715100968373e-10\n",
      "0.6727259604234146\n",
      "0.7545156429545573\n",
      "Correct\n"
     ]
    },
    {
     "name": "stderr",
     "output_type": "stream",
     "text": [
      "/Users/paolocadei/opt/anaconda3/lib/python3.9/site-packages/sklearn/gaussian_process/kernels.py:430: ConvergenceWarning: The optimal value found for dimension 0 of parameter length_scale is close to the specified upper bound 100000.0. Increasing the bound and calling fit again may find a better value.\n",
      "  warnings.warn(\n"
     ]
    },
    {
     "name": "stdout",
     "output_type": "stream",
     "text": [
      "Iteration 22 - Full RMSE: 3.4435287693541987, Cluster 1 RMSE: 4.903681014322905, Cluster 2 RMSE: 9.439018167035406e-10\n",
      "Iteration 22 - Train RMSE: 2.4785026805167902, Cluster 1 RMSE: 3.8900732094109283, Cluster 2 RMSE: 8.384007516644955e-10\n",
      "0.6067677321305258\n",
      "0.744742748506199\n",
      "Had to switch\n"
     ]
    },
    {
     "name": "stderr",
     "output_type": "stream",
     "text": [
      "/Users/paolocadei/opt/anaconda3/lib/python3.9/site-packages/sklearn/gaussian_process/kernels.py:430: ConvergenceWarning: The optimal value found for dimension 0 of parameter length_scale is close to the specified upper bound 100000.0. Increasing the bound and calling fit again may find a better value.\n",
      "  warnings.warn(\n"
     ]
    },
    {
     "name": "stdout",
     "output_type": "stream",
     "text": [
      "Iteration 23 - Full RMSE: 4.28662659042166, Cluster 1 RMSE: 6.062015042340485, Cluster 2 RMSE: 9.168859786755287e-10\n",
      "Iteration 23 - Train RMSE: 2.1966286383106794, Cluster 1 RMSE: 3.5201227842547396, Cluster 2 RMSE: 8.429074912631884e-10\n",
      "0.5253909247489336\n",
      "0.772990694357915\n",
      "Correct\n"
     ]
    },
    {
     "name": "stderr",
     "output_type": "stream",
     "text": [
      "/Users/paolocadei/opt/anaconda3/lib/python3.9/site-packages/sklearn/gaussian_process/kernels.py:430: ConvergenceWarning: The optimal value found for dimension 0 of parameter length_scale is close to the specified upper bound 100000.0. Increasing the bound and calling fit again may find a better value.\n",
      "  warnings.warn(\n"
     ]
    },
    {
     "name": "stdout",
     "output_type": "stream",
     "text": [
      "Iteration 24 - Full RMSE: 3.2221308831120483, Cluster 1 RMSE: 4.640856282574711, Cluster 2 RMSE: 1.0997650907201115e-09\n",
      "Iteration 24 - Train RMSE: 2.319039048771455, Cluster 1 RMSE: 3.752748970264821, Cluster 2 RMSE: 8.97260354552926e-10\n",
      "0.5360980012939531\n",
      "0.7978247465007975\n",
      "Had to switch\n"
     ]
    },
    {
     "name": "stderr",
     "output_type": "stream",
     "text": [
      "/Users/paolocadei/opt/anaconda3/lib/python3.9/site-packages/sklearn/gaussian_process/kernels.py:430: ConvergenceWarning: The optimal value found for dimension 0 of parameter length_scale is close to the specified upper bound 100000.0. Increasing the bound and calling fit again may find a better value.\n",
      "  warnings.warn(\n"
     ]
    },
    {
     "name": "stdout",
     "output_type": "stream",
     "text": [
      "Iteration 25 - Full RMSE: 3.808376162645529, Cluster 1 RMSE: 5.161142555755718, Cluster 2 RMSE: 8.232746398928787e-10\n",
      "Iteration 25 - Train RMSE: 2.238396960926423, Cluster 1 RMSE: 3.689891157316476, Cluster 2 RMSE: 7.867772318517001e-10\n",
      "0.4960910364894914\n",
      "0.7961091221414638\n",
      "Had to switch\n"
     ]
    },
    {
     "name": "stderr",
     "output_type": "stream",
     "text": [
      "/Users/paolocadei/opt/anaconda3/lib/python3.9/site-packages/sklearn/gaussian_process/kernels.py:430: ConvergenceWarning: The optimal value found for dimension 0 of parameter length_scale is close to the specified upper bound 100000.0. Increasing the bound and calling fit again may find a better value.\n",
      "  warnings.warn(\n"
     ]
    },
    {
     "name": "stdout",
     "output_type": "stream",
     "text": [
      "Iteration 26 - Full RMSE: 3.4245005224611864, Cluster 1 RMSE: 4.7552425009182535, Cluster 2 RMSE: 9.83236453499659e-10\n",
      "Iteration 26 - Train RMSE: 2.3994735433739844, Cluster 1 RMSE: 3.8997404827275033, Cluster 2 RMSE: 8.056169114433015e-10\n",
      "0.5790564724560181\n",
      "0.7684822356285452\n",
      "Had to switch\n"
     ]
    },
    {
     "name": "stderr",
     "output_type": "stream",
     "text": [
      "/Users/paolocadei/opt/anaconda3/lib/python3.9/site-packages/sklearn/gaussian_process/kernels.py:430: ConvergenceWarning: The optimal value found for dimension 0 of parameter length_scale is close to the specified upper bound 100000.0. Increasing the bound and calling fit again may find a better value.\n",
      "  warnings.warn(\n"
     ]
    },
    {
     "name": "stdout",
     "output_type": "stream",
     "text": [
      "Iteration 27 - Full RMSE: 3.905578464997617, Cluster 1 RMSE: 5.256139404076409, Cluster 2 RMSE: 7.976921077267061e-10\n",
      "Iteration 27 - Train RMSE: 2.3187903639784104, Cluster 1 RMSE: 3.7756370858657626, Cluster 2 RMSE: 7.664954999522977e-10\n",
      "0.5628820422956669\n",
      "0.7613839382813674\n",
      "Correct\n"
     ]
    },
    {
     "name": "stderr",
     "output_type": "stream",
     "text": [
      "/Users/paolocadei/opt/anaconda3/lib/python3.9/site-packages/sklearn/gaussian_process/kernels.py:430: ConvergenceWarning: The optimal value found for dimension 0 of parameter length_scale is close to the specified upper bound 100000.0. Increasing the bound and calling fit again may find a better value.\n",
      "  warnings.warn(\n"
     ]
    },
    {
     "name": "stdout",
     "output_type": "stream",
     "text": [
      "Iteration 28 - Full RMSE: 3.928497705448101, Cluster 1 RMSE: 5.515442669287546, Cluster 2 RMSE: 9.350565020288246e-10\n",
      "Iteration 28 - Train RMSE: 2.3278905906005396, Cluster 1 RMSE: 3.687681828882231, Cluster 2 RMSE: 8.12005289981797e-10\n",
      "0.5767283611771863\n",
      "0.7528258460077765\n",
      "Had to switch\n"
     ]
    },
    {
     "name": "stderr",
     "output_type": "stream",
     "text": [
      "/Users/paolocadei/opt/anaconda3/lib/python3.9/site-packages/sklearn/gaussian_process/kernels.py:430: ConvergenceWarning: The optimal value found for dimension 0 of parameter length_scale is close to the specified upper bound 100000.0. Increasing the bound and calling fit again may find a better value.\n",
      "  warnings.warn(\n"
     ]
    },
    {
     "name": "stdout",
     "output_type": "stream",
     "text": [
      "Iteration 29 - Full RMSE: 3.8559095321899695, Cluster 1 RMSE: 5.079828207575114, Cluster 2 RMSE: 9.385152479294936e-10\n",
      "Iteration 29 - Train RMSE: 2.3982688428919237, Cluster 1 RMSE: 3.8396414522103215, Cluster 2 RMSE: 7.873168211310871e-10\n",
      "0.5248230945229646\n",
      "0.7576365398098742\n",
      "Correct\n"
     ]
    },
    {
     "name": "stderr",
     "output_type": "stream",
     "text": [
      "/Users/paolocadei/opt/anaconda3/lib/python3.9/site-packages/sklearn/gaussian_process/kernels.py:430: ConvergenceWarning: The optimal value found for dimension 0 of parameter length_scale is close to the specified upper bound 100000.0. Increasing the bound and calling fit again may find a better value.\n",
      "  warnings.warn(\n"
     ]
    },
    {
     "name": "stdout",
     "output_type": "stream",
     "text": [
      "Iteration 30 - Full RMSE: 3.729684333133711, Cluster 1 RMSE: 5.25350704823378, Cluster 2 RMSE: 7.367272308772319e-10\n",
      "Iteration 30 - Train RMSE: 2.470557553754942, Cluster 1 RMSE: 3.914487988045909, Cluster 2 RMSE: 7.639545099968753e-10\n",
      "0.5546520348938353\n",
      "0.7419748542143834\n",
      "Correct\n"
     ]
    },
    {
     "name": "stderr",
     "output_type": "stream",
     "text": [
      "/Users/paolocadei/opt/anaconda3/lib/python3.9/site-packages/sklearn/gaussian_process/kernels.py:430: ConvergenceWarning: The optimal value found for dimension 0 of parameter length_scale is close to the specified upper bound 100000.0. Increasing the bound and calling fit again may find a better value.\n",
      "  warnings.warn(\n"
     ]
    },
    {
     "name": "stdout",
     "output_type": "stream",
     "text": [
      "Iteration 31 - Full RMSE: 2.4352487469102138, Cluster 1 RMSE: 3.416022475288058, Cluster 2 RMSE: 9.014173557118143e-10\n",
      "Iteration 31 - Train RMSE: 2.4600579992466787, Cluster 1 RMSE: 4.010239690382738, Cluster 2 RMSE: 7.926247764194478e-10\n",
      "0.6754588493411812\n",
      "0.7845050326684706\n",
      "Correct\n"
     ]
    },
    {
     "name": "stderr",
     "output_type": "stream",
     "text": [
      "/Users/paolocadei/opt/anaconda3/lib/python3.9/site-packages/sklearn/gaussian_process/kernels.py:430: ConvergenceWarning: The optimal value found for dimension 0 of parameter length_scale is close to the specified upper bound 100000.0. Increasing the bound and calling fit again may find a better value.\n",
      "  warnings.warn(\n"
     ]
    },
    {
     "name": "stdout",
     "output_type": "stream",
     "text": [
      "Iteration 32 - Full RMSE: 2.904125950011683, Cluster 1 RMSE: 3.9975954812531134, Cluster 2 RMSE: 8.135712732220303e-10\n",
      "Iteration 32 - Train RMSE: 2.4605023973262887, Cluster 1 RMSE: 4.0066343595158616, Cluster 2 RMSE: 7.58199000047143e-10\n",
      "0.6524740019493582\n",
      "0.7668931779186202\n",
      "Had to switch\n"
     ]
    },
    {
     "name": "stderr",
     "output_type": "stream",
     "text": [
      "/Users/paolocadei/opt/anaconda3/lib/python3.9/site-packages/sklearn/gaussian_process/kernels.py:430: ConvergenceWarning: The optimal value found for dimension 0 of parameter length_scale is close to the specified upper bound 100000.0. Increasing the bound and calling fit again may find a better value.\n",
      "  warnings.warn(\n"
     ]
    },
    {
     "name": "stdout",
     "output_type": "stream",
     "text": [
      "Iteration 33 - Full RMSE: 2.0493816752211083, Cluster 1 RMSE: 2.7136293221226464, Cluster 2 RMSE: 8.733670549711792e-10\n",
      "Iteration 33 - Train RMSE: 2.588229677790987, Cluster 1 RMSE: 4.2123623218165775, Cluster 2 RMSE: 7.822081838158218e-10\n",
      "0.7210311795460587\n",
      "0.7702220358199937\n",
      "Had to switch\n"
     ]
    },
    {
     "name": "stderr",
     "output_type": "stream",
     "text": [
      "/Users/paolocadei/opt/anaconda3/lib/python3.9/site-packages/sklearn/gaussian_process/kernels.py:430: ConvergenceWarning: The optimal value found for dimension 0 of parameter length_scale is close to the specified upper bound 100000.0. Increasing the bound and calling fit again may find a better value.\n",
      "  warnings.warn(\n"
     ]
    },
    {
     "name": "stdout",
     "output_type": "stream",
     "text": [
      "Iteration 34 - Full RMSE: 2.1037088679407643, Cluster 1 RMSE: 3.04371753807367, Cluster 2 RMSE: 1.026749611651137e-09\n",
      "Iteration 34 - Train RMSE: 2.588350410758209, Cluster 1 RMSE: 4.110333143455295, Cluster 2 RMSE: 8.598489991423973e-10\n",
      "0.7218398234994692\n",
      "0.7671373798120478\n",
      "Had to switch\n"
     ]
    },
    {
     "name": "stderr",
     "output_type": "stream",
     "text": [
      "/Users/paolocadei/opt/anaconda3/lib/python3.9/site-packages/sklearn/gaussian_process/kernels.py:430: ConvergenceWarning: The optimal value found for dimension 0 of parameter length_scale is close to the specified upper bound 100000.0. Increasing the bound and calling fit again may find a better value.\n",
      "  warnings.warn(\n"
     ]
    },
    {
     "name": "stdout",
     "output_type": "stream",
     "text": [
      "Iteration 35 - Full RMSE: 2.0983853843715607, Cluster 1 RMSE: 2.925191177845589, Cluster 2 RMSE: 9.655035210990236e-10\n",
      "Iteration 35 - Train RMSE: 2.5727912123899896, Cluster 1 RMSE: 4.14447271111342, Cluster 2 RMSE: 8.038884508679768e-10\n",
      "0.7127235914103309\n",
      "0.7717041943264831\n",
      "Had to switch\n"
     ]
    },
    {
     "name": "stderr",
     "output_type": "stream",
     "text": [
      "/Users/paolocadei/opt/anaconda3/lib/python3.9/site-packages/sklearn/gaussian_process/kernels.py:430: ConvergenceWarning: The optimal value found for dimension 0 of parameter length_scale is close to the specified upper bound 100000.0. Increasing the bound and calling fit again may find a better value.\n",
      "  warnings.warn(\n"
     ]
    },
    {
     "name": "stdout",
     "output_type": "stream",
     "text": [
      "Iteration 36 - Full RMSE: 3.525916131871515, Cluster 1 RMSE: 4.955660532605911, Cluster 2 RMSE: 1.0371813034076786e-09\n",
      "Iteration 36 - Train RMSE: 2.6786437615371823, Cluster 1 RMSE: 4.126721598419606, Cluster 2 RMSE: 8.265577875466667e-10\n",
      "0.6065970056006249\n",
      "0.6951196486356358\n",
      "Correct\n"
     ]
    },
    {
     "name": "stderr",
     "output_type": "stream",
     "text": [
      "/Users/paolocadei/opt/anaconda3/lib/python3.9/site-packages/sklearn/gaussian_process/kernels.py:430: ConvergenceWarning: The optimal value found for dimension 0 of parameter length_scale is close to the specified upper bound 100000.0. Increasing the bound and calling fit again may find a better value.\n",
      "  warnings.warn(\n"
     ]
    },
    {
     "name": "stdout",
     "output_type": "stream",
     "text": [
      "Iteration 37 - Full RMSE: 3.4104877968831766, Cluster 1 RMSE: 4.738364655552984, Cluster 2 RMSE: 9.26998517724913e-10\n",
      "Iteration 37 - Train RMSE: 2.250901879936712, Cluster 1 RMSE: 3.712959756891759, Cluster 2 RMSE: 8.383815475926224e-10\n",
      "0.4616228515947556\n",
      "0.8120890790492605\n",
      "Correct\n"
     ]
    },
    {
     "name": "stderr",
     "output_type": "stream",
     "text": [
      "/Users/paolocadei/opt/anaconda3/lib/python3.9/site-packages/sklearn/gaussian_process/kernels.py:430: ConvergenceWarning: The optimal value found for dimension 0 of parameter length_scale is close to the specified upper bound 100000.0. Increasing the bound and calling fit again may find a better value.\n",
      "  warnings.warn(\n"
     ]
    },
    {
     "name": "stdout",
     "output_type": "stream",
     "text": [
      "Iteration 38 - Full RMSE: 2.2257960576292106, Cluster 1 RMSE: 2.9772063351100675, Cluster 2 RMSE: 7.821245191759174e-10\n",
      "Iteration 38 - Train RMSE: 2.4436253474077154, Cluster 1 RMSE: 4.023122403144886, Cluster 2 RMSE: 7.916746614221961e-10\n",
      "0.6254379905190073\n",
      "0.796874385775268\n",
      "Had to switch\n"
     ]
    },
    {
     "name": "stderr",
     "output_type": "stream",
     "text": [
      "/Users/paolocadei/opt/anaconda3/lib/python3.9/site-packages/sklearn/gaussian_process/kernels.py:430: ConvergenceWarning: The optimal value found for dimension 0 of parameter length_scale is close to the specified upper bound 100000.0. Increasing the bound and calling fit again may find a better value.\n",
      "  warnings.warn(\n"
     ]
    },
    {
     "name": "stdout",
     "output_type": "stream",
     "text": [
      "Iteration 39 - Full RMSE: 1.958862049635708, Cluster 1 RMSE: 2.9803826667569497, Cluster 2 RMSE: 9.556360358470847e-10\n",
      "Iteration 39 - Train RMSE: 2.743920474468158, Cluster 1 RMSE: 4.282075126782758, Cluster 2 RMSE: 8.359849617057117e-10\n",
      "0.7723753139889526\n",
      "0.7361157996051029\n",
      "Had to switch\n"
     ]
    },
    {
     "name": "stderr",
     "output_type": "stream",
     "text": [
      "/Users/paolocadei/opt/anaconda3/lib/python3.9/site-packages/sklearn/gaussian_process/kernels.py:430: ConvergenceWarning: The optimal value found for dimension 0 of parameter length_scale is close to the specified upper bound 100000.0. Increasing the bound and calling fit again may find a better value.\n",
      "  warnings.warn(\n"
     ]
    },
    {
     "name": "stdout",
     "output_type": "stream",
     "text": [
      "Iteration 40 - Full RMSE: 2.227943739755706, Cluster 1 RMSE: 3.180628192249839, Cluster 2 RMSE: 8.946283111640911e-10\n",
      "Iteration 40 - Train RMSE: 2.522337869353307, Cluster 1 RMSE: 4.074982117856816, Cluster 2 RMSE: 8.212321859015394e-10\n",
      "0.6559075519835764\n",
      "0.7831210100112265\n",
      "Correct\n"
     ]
    },
    {
     "name": "stderr",
     "output_type": "stream",
     "text": [
      "/Users/paolocadei/opt/anaconda3/lib/python3.9/site-packages/sklearn/gaussian_process/kernels.py:430: ConvergenceWarning: The optimal value found for dimension 0 of parameter length_scale is close to the specified upper bound 100000.0. Increasing the bound and calling fit again may find a better value.\n",
      "  warnings.warn(\n"
     ]
    },
    {
     "name": "stdout",
     "output_type": "stream",
     "text": [
      "Iteration 41 - Full RMSE: 4.243651743160595, Cluster 1 RMSE: 5.647272784000874, Cluster 2 RMSE: 8.817374044852929e-10\n",
      "Iteration 41 - Train RMSE: 2.317263775517244, Cluster 1 RMSE: 3.719003536813376, Cluster 2 RMSE: 7.559999331972368e-10\n",
      "0.5377270840274121\n",
      "0.7456168288700262\n",
      "Average RMSE over 40 splits: 3.1156937231174857\n",
      "Average RMSE over 40 splits: 2.500120428031903\n",
      "Average RMSE over 40 splits: 0.6289710730191576\n",
      "Average RMSE over 40 splits: 0.7879426601098933\n"
     ]
    }
   ],
   "source": [
    "# Loop to evaluate RMSE over multiple splits\n",
    "\n",
    "from sklearn.metrics import r2_score\n",
    "\n",
    "sum_test = 0\n",
    "sum_train = 0\n",
    "\n",
    "sum_r2 = 0\n",
    "sum_r2_train = 0\n",
    "\n",
    "for i in range(0, 41):\n",
    "    # Split the data\n",
    "    x_train, x_test, y_train, y_test = train_test_split(X, y, random_state=i)\n",
    "    filtered_indices = y_test < 61  # Create a boolean mask for the condition\n",
    "\n",
    "    # Apply the mask to both x_test and y_test\n",
    "    x_test_filtered = x_test[filtered_indices]  # Filter x_test\n",
    "    y_test_filtered = y_test[filtered_indices]\n",
    "\n",
    "    # Train and predict\n",
    "    best_model = training_model(x_train, y_train)\n",
    "    y_pred_full, y1_pred_knr, y2_pred, idx1, idx2 = best_model(x_test)\n",
    "\n",
    "    y_pred_train, y1_pred_train, y2_pred_train, idx1_train, idx2_train = best_model(x_train)\n",
    "\n",
    "    # Calculate RMSE for full test set, cluster 1, and cluster 2\n",
    "    rmse_full = rmse(y_test, y_pred_full)\n",
    "    rmse_cluster1 = rmse(y_test[idx1], y1_pred_knr)\n",
    "    rmse_cluster2 = rmse(y_test[idx2], y2_pred)\n",
    "\n",
    "    rmse_full_train = rmse(y_train, y_pred_train)\n",
    "    rmse_cluster1_train = rmse(y_train[idx1_train], y1_pred_train)\n",
    "    rmse_cluster2_train = rmse(y_train[idx2_train], y2_pred_train)\n",
    "\n",
    "    # Print RMSE for each iteration\n",
    "    print(f\"Iteration {i+1} - Full RMSE: {rmse_full}, Cluster 1 RMSE: {rmse_cluster1}, Cluster 2 RMSE: {rmse_cluster2}\")\n",
    "    print(f\"Iteration {i+1} - Train RMSE: {rmse_full_train}, Cluster 1 RMSE: {rmse_cluster1_train}, Cluster 2 RMSE: {rmse_cluster2_train}\")\n",
    "    print(r2_score(y_test, y_pred_full))\n",
    "    print(r2_score(y_train, y_pred_train))\n",
    "\n",
    "    # Accumulate RMSE for average\n",
    "    sum_test += rmse_full\n",
    "    sum_train += rmse_full_train\n",
    "    sum_r2 += r2_score(y_test, y_pred_full)\n",
    "    sum_r2_train += r2_score(y_train, y_pred_train)\n",
    "\n",
    "# Print average RMSE\n",
    "print(f\"Average RMSE over 40 splits: {sum_test / 40}\")\n",
    "print(f\"Average RMSE over 40 splits: {sum_train / 40}\")\n",
    "print(f\"Average RMSE over 40 splits: {sum_r2 / 40}\")\n",
    "print(f\"Average RMSE over 40 splits: {sum_r2_train / 40}\")\n"
   ]
  },
  {
   "cell_type": "code",
   "execution_count": 51,
   "metadata": {},
   "outputs": [],
   "source": [
    "#####################################################\n",
    "# USE THIS CELL TO TRAIN AND CREATE YOUR BEST MODEL # \n",
    "#####################################################\n",
    "\n",
    "# Data Preprocessing\n",
    "\n",
    "# based on our previous analysis and the random_state we set for KMeans clustering we know that:\n",
    "# cluster 0 should be solved using Averaging (mean of features 2 > 61)\n",
    "# cluster 1 should be solved using Bayesian Ridge (mean of features 2 <= 61)\n",
    "\n",
    "def BayesianTrain(X_train, y_train):\n",
    "    model = BayesianRidge()\n",
    "    return model.fit(X_train, y_train)\n",
    "\n",
    "def AveragingTrain(X_train, y_train):\n",
    "    # Create the KNN Regressor model\n",
    "    model_knr = KNeighborsRegressor(n_neighbors=10, metric = 'manhattan')\n",
    "    model_g = GaussianProcessRegressor(alpha=0.1, kernel=RationalQuadratic(alpha=0.1, length_scale=50))\n",
    "\n",
    "    scaler = StandardScaler()\n",
    "\n",
    "    # Fit the scaler on the training data and transform both the training and testing data\n",
    "    X_train = scaler.fit_transform(X_train)\n",
    "\n",
    "    pca_transformer = PCA(n_components=0.97)\n",
    "    # Fit the PCA transformer on the training data and transform both the training and testing data\n",
    "    X_train = pca_transformer.fit_transform(X_train)\n",
    "\n",
    "    # Fit the model to the training data\n",
    "    knr = model_knr.fit(X_train, y_train)\n",
    "    g = model_g.fit(X_train, y_train)\n",
    "\n",
    "    y_pred_g = g.predict(X_train)  # Predictions for Gaussian Process\n",
    "    y_pred_knr = knr.predict(X_train)  # Predictions for KNN Regressor\n",
    "\n",
    "    # Calculate inverse variances and handle case where variance is zero\n",
    "    inv_var_knr = 1 / np.var(y_pred_knr) if np.var(y_pred_knr) != 0 else 0\n",
    "    inv_var_g = 1 / np.var(y_pred_g) if np.var(y_pred_g) != 0 else 0\n",
    "\n",
    "    total_variance = inv_var_knr + inv_var_g if inv_var_knr + inv_var_g != 0 else 1  # Avoid division by zero\n",
    "\n",
    "    w_knr = inv_var_knr / total_variance\n",
    "    w_g = inv_var_g / total_variance\n",
    "\n",
    "    print(w_g, w_knr)\n",
    "\n",
    "    return knr, g, scaler, pca_transformer, w_knr, w_g\n",
    "\n",
    "def training_model(X, y, random_state=40):\n",
    "    # Divide the data using KMeans\n",
    "    (X_train_clusters, y_train_clusters), clusters, labels = divide_data_by_kmeans_distance(\n",
    "        X, y, n_clusters=2, random_state=random_state\n",
    "    )\n",
    "\n",
    "    # Calculate the mean of the second feature for each cluster\n",
    "    cluster_0_mean = clusters[0][1]\n",
    "    cluster_1_mean = clusters[1][1]\n",
    "\n",
    "    # This condition was only inserted to make sure that there was no issue in labels' assignment\n",
    "    # Ensure that cluster 1 has a mean of the second feature below 61 and cluster 2 above 61\n",
    "    if cluster_0_mean < 61 and cluster_1_mean > 61:\n",
    "        print('Correct')\n",
    "        X1_train, y1_train = X_train_clusters[0], y_train_clusters[0]\n",
    "        X2_train, y2_train = X_train_clusters[1], y_train_clusters[1]\n",
    "    elif cluster_1_mean < 61 and cluster_0_mean > 61:\n",
    "        print('Had to switch')\n",
    "        X1_train, y1_train = X_train_clusters[1], y_train_clusters[1]\n",
    "        X2_train, y2_train = X_train_clusters[0], y_train_clusters[0]\n",
    "        labels = [1, 0]\n",
    "    else:\n",
    "        raise ValueError(\"The clusters do not meet the expected conditions for the second feature.\")\n",
    "\n",
    "    # Train the models\n",
    "    best_model_knr1, best_model_g1, scaler, pca_transformer, w_knr, w_g = AveragingTrain(X1_train, y1_train)\n",
    "    best_model2 = BayesianTrain(X2_train, y2_train)\n",
    "\n",
    "    def predict(X_test):\n",
    "        \n",
    "        # Get the clustered test data and their original indices\n",
    "        X1_test, X2_test, idx1, idx2 = assign_test_data_to_clusters_with_labels(X_test, clusters, labels)\n",
    "\n",
    "        X1_test = scaler.transform(X1_test)\n",
    "\n",
    "        X1_test = pca_transformer.transform(X1_test)\n",
    "\n",
    "        # Handle case where no data is assigned to one of the clusters\n",
    "        if X2_test.shape[0] == 0:\n",
    "            # If no data is assigned to X2_test, treat the entire set as belonging to cluster 1 (KNR and GPR)\n",
    "            X2_test = X1_test\n",
    "            idx2 = idx1  # Update indices to ensure consistency\n",
    "        elif X1_test.shape[0] == 0:\n",
    "            # If no data is assigned to X1_test, treat the entire set as belonging to cluster 2 (Bayesian Ridge)\n",
    "            X1_test = X2_test\n",
    "            idx1 = idx2  # Update indices to ensure consistency\n",
    "\n",
    "        # Make predictions for each cluster\n",
    "        y2_pred = best_model2.predict(X2_test)  # Predictions for Bayesian Ridge\n",
    "        y1_pred_g = best_model_g1.predict(X1_test)  # Predictions for Gaussian Process\n",
    "        y1_pred_knr = best_model_knr1.predict(X1_test)  # Predictions for KNN Regressor\n",
    "\n",
    "        # Initialize a full array for y predictions\n",
    "        y_pred_full = np.empty(X_test.shape[0])\n",
    "\n",
    "        # Place predictions back in their original order\n",
    "        if X1_test.shape[0] > 0:\n",
    "            y_pred_full[idx1] = y1_pred_knr * w_knr + y1_pred_g * w_g\n",
    "        if X2_test.shape[0] > 0:\n",
    "            y_pred_full[idx2] = y2_pred\n",
    "\n",
    "        return y_pred_full, y1_pred_knr, y2_pred, idx1, idx2\n",
    "\n",
    "\n",
    "    return predict"
   ]
  },
  {
   "cell_type": "code",
   "execution_count": 52,
   "metadata": {},
   "outputs": [
    {
     "name": "stdout",
     "output_type": "stream",
     "text": [
      "Correct\n",
      "0.19630388555068415 0.8036961144493158\n",
      "Iteration 1 - Full RMSE: 2.773535884238292, Cluster 1 RMSE: 3.9495945858016763, Cluster 2 RMSE: 7.241879337284717e-10\n",
      "Iteration 1 - Train RMSE: 2.5792429151853296, Cluster 1 RMSE: 4.096381198291937, Cluster 2 RMSE: 7.516078894413401e-10\n",
      "0.694192664963088\n",
      "0.7419739860528025\n",
      "Correct\n",
      "0.20891410476674285 0.7910858952332572\n",
      "Iteration 2 - Full RMSE: 1.527191153238027, Cluster 1 RMSE: 2.189875372981512, Cluster 2 RMSE: 1.1373972548065722e-09\n",
      "Iteration 2 - Train RMSE: 2.658090893061991, Cluster 1 RMSE: 4.2305309156975355, Cluster 2 RMSE: 8.710311690444489e-10\n",
      "0.7985039591019139\n",
      "0.7666824752049383\n",
      "Correct\n",
      "0.22145006491205954 0.7785499350879405\n",
      "Iteration 3 - Full RMSE: 3.0814595786368653, Cluster 1 RMSE: 3.9958735630744693, Cluster 2 RMSE: 1.063500167242289e-09\n",
      "Iteration 3 - Train RMSE: 2.372705055909891, Cluster 1 RMSE: 3.905139559132285, Cluster 2 RMSE: 7.868663293761112e-10\n",
      "0.5373663115790639\n",
      "0.7940104146036231\n",
      "Had to switch\n",
      "0.18667180348846402 0.813328196511536\n",
      "Iteration 4 - Full RMSE: 1.945620284893651, Cluster 1 RMSE: 2.9931950450281546, Cluster 2 RMSE: 1.102433106809873e-09\n",
      "Iteration 4 - Train RMSE: 2.780693192860812, Cluster 1 RMSE: 4.32147574301706, Cluster 2 RMSE: 8.748078026134234e-10\n",
      "0.7675923167742705\n",
      "0.7307654487052337\n",
      "Had to switch\n",
      "0.21223890655250116 0.7877610934474989\n",
      "Iteration 5 - Full RMSE: 4.033753309404324, Cluster 1 RMSE: 5.391459993708171, Cluster 2 RMSE: 8.651808799913307e-10\n",
      "Iteration 5 - Train RMSE: 2.2587037044703075, Cluster 1 RMSE: 3.630872360554677, Cluster 2 RMSE: 7.996087978542498e-10\n",
      "0.5386012482392865\n",
      "0.7723198633222187\n",
      "Correct\n",
      "0.22867602678995655 0.7713239732100434\n",
      "Iteration 6 - Full RMSE: 2.187688274850279, Cluster 1 RMSE: 3.05864163992301, Cluster 2 RMSE: 9.218311601950641e-10\n",
      "Iteration 6 - Train RMSE: 2.4627322796351234, Cluster 1 RMSE: 4.087689538378987, Cluster 2 RMSE: 7.566101351059524e-10\n",
      "0.7046435578722907\n",
      "0.7887447453428409\n",
      "Correct\n",
      "0.20218181040463618 0.7978181895953638\n",
      "Iteration 7 - Full RMSE: 3.6649038720246914, Cluster 1 RMSE: 5.175998483141025, Cluster 2 RMSE: 8.15898800561053e-10\n",
      "Iteration 7 - Train RMSE: 2.5209994752677276, Cluster 1 RMSE: 3.9639691642030868, Cluster 2 RMSE: 8.361598101296928e-10\n",
      "0.5804478832299604\n",
      "0.7290306473547035\n",
      "Had to switch\n",
      "0.21807904853896282 0.7819209514610372\n",
      "Iteration 8 - Full RMSE: 2.036655933578299, Cluster 1 RMSE: 2.67127524264127, Cluster 2 RMSE: 7.600403661967822e-10\n",
      "Iteration 8 - Train RMSE: 2.5768843673821884, Cluster 1 RMSE: 4.183039390863106, Cluster 2 RMSE: 7.698148556763022e-10\n",
      "0.7576886387628955\n",
      "0.7666945347639423\n",
      "Had to switch\n",
      "0.22623645610277485 0.7737635438972251\n",
      "Iteration 9 - Full RMSE: 2.9616047657984796, Cluster 1 RMSE: 4.157560986916991, Cluster 2 RMSE: 8.299114578958035e-10\n",
      "Iteration 9 - Train RMSE: 2.4308223710121486, Cluster 1 RMSE: 4.007955432572979, Cluster 2 RMSE: 7.506279667270186e-10\n",
      "0.6413907772054923\n",
      "0.7727291196942242\n",
      "Correct\n",
      "0.21029222549555016 0.7897077745044498\n",
      "Iteration 10 - Full RMSE: 1.524897899103447, Cluster 1 RMSE: 2.3568929481222787, Cluster 2 RMSE: 1.0015721924794647e-09\n",
      "Iteration 10 - Train RMSE: 2.615979654927075, Cluster 1 RMSE: 4.167406399763741, Cluster 2 RMSE: 8.562810166938125e-10\n",
      "0.8232581817713569\n",
      "0.7697050850392578\n",
      "Had to switch\n",
      "0.2310336068739183 0.7689663931260816\n",
      "Iteration 11 - Full RMSE: 3.7879222598500006, Cluster 1 RMSE: 5.2778694813108125, Cluster 2 RMSE: 1.2387928511999124e-09\n",
      "Iteration 11 - Train RMSE: 2.259783546216361, Cluster 1 RMSE: 3.669644609121687, Cluster 2 RMSE: 9.192343784220265e-10\n",
      "0.5517547374731683\n",
      "0.7824007711071097\n",
      "Had to switch\n",
      "0.24027313109272522 0.7597268689072748\n",
      "Iteration 12 - Full RMSE: 2.795400341145922, Cluster 1 RMSE: 3.8693928360657344, Cluster 2 RMSE: 8.130422730295024e-10\n",
      "Iteration 12 - Train RMSE: 2.343568344622741, Cluster 1 RMSE: 3.9188398660146673, Cluster 2 RMSE: 7.518304764059747e-10\n",
      "0.5487311897430815\n",
      "0.8064457915703961\n",
      "Correct\n",
      "0.20847561039341758 0.7915243896065823\n",
      "Iteration 13 - Full RMSE: 2.5587563673890297, Cluster 1 RMSE: 3.5570946839395057, Cluster 2 RMSE: 1.0952038573591032e-09\n",
      "Iteration 13 - Train RMSE: 2.505159110564478, Cluster 1 RMSE: 3.9944084709209813, Cluster 2 RMSE: 8.580087553303854e-10\n",
      "0.6468142794655334\n",
      "0.7757855824847957\n",
      "Correct\n",
      "0.20597904827038144 0.7940209517296186\n",
      "Iteration 14 - Full RMSE: 3.771069364232126, Cluster 1 RMSE: 5.4254536320577165, Cluster 2 RMSE: 8.758821086209963e-10\n",
      "Iteration 14 - Train RMSE: 2.3827732428748805, Cluster 1 RMSE: 3.757656793742059, Cluster 2 RMSE: 8.513454155206636e-10\n",
      "0.5646896086039503\n",
      "0.7551381049461444\n",
      "Correct\n",
      "0.22831667471496989 0.77168332528503\n",
      "Iteration 15 - Full RMSE: 2.4828238712663517, Cluster 1 RMSE: 3.461478571096337, Cluster 2 RMSE: 9.348717785763981e-10\n",
      "Iteration 15 - Train RMSE: 2.4685028700740235, Cluster 1 RMSE: 4.071022879683643, Cluster 2 RMSE: 7.782013925056108e-10\n",
      "0.6232760334711881\n",
      "0.7877879059511145\n",
      "Correct\n",
      "0.24592697328928478 0.7540730267107153\n",
      "Iteration 16 - Full RMSE: 1.2618132671983693, Cluster 1 RMSE: 1.7958979987425323, Cluster 2 RMSE: 7.373707154056069e-10\n",
      "Iteration 16 - Train RMSE: 2.45594133912389, Cluster 1 RMSE: 4.0924112246813715, Cluster 2 RMSE: 7.83318332791218e-10\n",
      "0.7417853222128419\n",
      "0.8104263397233964\n",
      "Had to switch\n",
      "0.1882273683145874 0.8117726316854126\n",
      "Iteration 17 - Full RMSE: 5.281153097114357, Cluster 1 RMSE: 6.934838553488489, Cluster 2 RMSE: 1.112587081955494e-09\n",
      "Iteration 17 - Train RMSE: 2.1704006211973526, Cluster 1 RMSE: 3.412664477153698, Cluster 2 RMSE: 8.238762329046133e-10\n",
      "0.4370019523203612\n",
      "0.7316565651245659\n",
      "Correct\n",
      "0.24329117535765155 0.7567088246423483\n",
      "Iteration 18 - Full RMSE: 4.163838261505746, Cluster 1 RMSE: 5.954007258825671, Cluster 2 RMSE: 8.663508054497434e-10\n",
      "Iteration 18 - Train RMSE: 2.0795343165531572, Cluster 1 RMSE: 3.4223328884518724, Cluster 2 RMSE: 8.34044487950501e-10\n",
      "0.4843283435526181\n",
      "0.8110202767065073\n",
      "Had to switch\n",
      "0.20973115015010266 0.7902688498498973\n",
      "Iteration 19 - Full RMSE: 4.153085494289213, Cluster 1 RMSE: 5.593816478606965, Cluster 2 RMSE: 8.732963729491521e-10\n",
      "Iteration 19 - Train RMSE: 2.282443931626894, Cluster 1 RMSE: 3.668976614509924, Cluster 2 RMSE: 7.935550084549498e-10\n",
      "0.5349392545200842\n",
      "0.7573339134258091\n",
      "Correct\n",
      "0.24904343437635398 0.750956565623646\n",
      "Iteration 20 - Full RMSE: 3.0979385374735577, Cluster 1 RMSE: 4.3871392622522976, Cluster 2 RMSE: 9.908266907762564e-10\n",
      "Iteration 20 - Train RMSE: 2.2495258555919104, Cluster 1 RMSE: 3.7337654320415505, Cluster 2 RMSE: 8.502845620962383e-10\n",
      "0.487912080701853\n",
      "0.8186881440058809\n",
      "Correct\n",
      "0.2128769409004401 0.7871230590995599\n",
      "Iteration 21 - Full RMSE: 2.342455113129984, Cluster 1 RMSE: 3.686984828325743, Cluster 2 RMSE: 9.274477107783919e-10\n",
      "Iteration 21 - Train RMSE: 2.6042227652468233, Cluster 1 RMSE: 4.144732205999569, Cluster 2 RMSE: 8.540715100968373e-10\n",
      "0.7133815583378837\n",
      "0.755732905280358\n",
      "Correct\n",
      "0.19769555318999818 0.8023044468100018\n",
      "Iteration 22 - Full RMSE: 3.3796236045982537, Cluster 1 RMSE: 4.903681014322905, Cluster 2 RMSE: 9.439018167035406e-10\n",
      "Iteration 22 - Train RMSE: 2.475109313195007, Cluster 1 RMSE: 3.8900732094109283, Cluster 2 RMSE: 8.384007516644955e-10\n",
      "0.6212275474249523\n",
      "0.7454412255903123\n",
      "Had to switch\n",
      "0.22250363865865608 0.7774963613413439\n",
      "Iteration 23 - Full RMSE: 4.214347680038393, Cluster 1 RMSE: 6.062015042340485, Cluster 2 RMSE: 9.168859786755287e-10\n",
      "Iteration 23 - Train RMSE: 2.189360611768525, Cluster 1 RMSE: 3.5201227842547396, Cluster 2 RMSE: 8.429074912631884e-10\n",
      "0.5412612208500523\n",
      "0.7744904290753957\n",
      "Correct\n",
      "0.23675267300446315 0.7632473269955369\n",
      "Iteration 24 - Full RMSE: 3.1384175929435716, Cluster 1 RMSE: 4.640856282574711, Cluster 2 RMSE: 1.0997650907201115e-09\n",
      "Iteration 24 - Train RMSE: 2.305940159834257, Cluster 1 RMSE: 3.752748970264821, Cluster 2 RMSE: 8.97260354552926e-10\n",
      "0.559889887105708\n",
      "0.8001022346085604\n",
      "Had to switch\n",
      "0.2400508866236585 0.7599491133763414\n",
      "Iteration 25 - Full RMSE: 3.7136124943477737, Cluster 1 RMSE: 5.161142555755718, Cluster 2 RMSE: 8.232746398928787e-10\n",
      "Iteration 25 - Train RMSE: 2.227188063861686, Cluster 1 RMSE: 3.689891157316476, Cluster 2 RMSE: 7.867772318517001e-10\n",
      "0.520856527642055\n",
      "0.798145999235945\n",
      "Had to switch\n",
      "0.22205208572818821 0.7779479142718119\n",
      "Iteration 26 - Full RMSE: 3.3601980179258586, Cluster 1 RMSE: 4.7552425009182535, Cluster 2 RMSE: 9.83236453499659e-10\n",
      "Iteration 26 - Train RMSE: 2.391816440479826, Cluster 1 RMSE: 3.8997404827275033, Cluster 2 RMSE: 8.056169114433015e-10\n",
      "0.5947163299993721\n",
      "0.7699574982134901\n",
      "Had to switch\n",
      "0.21959069263188952 0.7804093073681105\n",
      "Iteration 27 - Full RMSE: 3.9279845137080533, Cluster 1 RMSE: 5.256139404076409, Cluster 2 RMSE: 7.976921077267061e-10\n",
      "Iteration 27 - Train RMSE: 2.312484677487783, Cluster 1 RMSE: 3.7756370858657626, Cluster 2 RMSE: 7.664954999522977e-10\n",
      "0.5578522213063766\n",
      "0.7626799521463251\n",
      "Correct\n",
      "0.20257311305684658 0.7974268869431533\n",
      "Iteration 28 - Full RMSE: 3.9095537263956412, Cluster 1 RMSE: 5.515442669287546, Cluster 2 RMSE: 9.350565020288246e-10\n",
      "Iteration 28 - Train RMSE: 2.3227668091462217, Cluster 1 RMSE: 3.687681828882231, Cluster 2 RMSE: 8.12005289981797e-10\n",
      "0.5808007147329926\n",
      "0.7539127291967581\n",
      "Had to switch\n",
      "0.20257587960045395 0.797424120399546\n",
      "Iteration 29 - Full RMSE: 3.924184711273737, Cluster 1 RMSE: 5.079828207575114, Cluster 2 RMSE: 9.385152479294936e-10\n",
      "Iteration 29 - Train RMSE: 2.393684075699803, Cluster 1 RMSE: 3.8396414522103215, Cluster 2 RMSE: 7.873168211310871e-10\n",
      "0.5078465475707526\n",
      "0.7585623058460498\n",
      "Correct\n",
      "0.19778573912287467 0.8022142608771254\n",
      "Iteration 30 - Full RMSE: 3.6918961384217535, Cluster 1 RMSE: 5.25350704823378, Cluster 2 RMSE: 7.367272308772319e-10\n",
      "Iteration 30 - Train RMSE: 2.4692176936989876, Cluster 1 RMSE: 3.914487988045909, Cluster 2 RMSE: 7.639545099968753e-10\n",
      "0.5636306192032701\n",
      "0.742254648416348\n",
      "Correct\n",
      "0.22733238291348265 0.7726676170865174\n",
      "Iteration 31 - Full RMSE: 2.323292856800578, Cluster 1 RMSE: 3.416022475288058, Cluster 2 RMSE: 9.014173557118143e-10\n",
      "Iteration 31 - Train RMSE: 2.4491191009982054, Cluster 1 RMSE: 4.010239690382738, Cluster 2 RMSE: 7.926247764194478e-10\n",
      "0.7046132375497667\n",
      "0.7864172124497786\n",
      "Correct\n",
      "0.22001625214903925 0.7799837478509608\n",
      "Iteration 32 - Full RMSE: 2.854441846744592, Cluster 1 RMSE: 3.9975954812531134, Cluster 2 RMSE: 8.135712732220303e-10\n",
      "Iteration 32 - Train RMSE: 2.4531297508843224, Cluster 1 RMSE: 4.0066343595158616, Cluster 2 RMSE: 7.58199000047143e-10\n",
      "0.6642633107724281\n",
      "0.7682880469970168\n",
      "Had to switch\n",
      "0.22017079053139557 0.7798292094686045\n",
      "Iteration 33 - Full RMSE: 2.0857250187437835, Cluster 1 RMSE: 2.7136293221226464, Cluster 2 RMSE: 8.733670549711792e-10\n",
      "Iteration 33 - Train RMSE: 2.5798383946747063, Cluster 1 RMSE: 4.2123623218165775, Cluster 2 RMSE: 7.822081838158218e-10\n",
      "0.7110490875566173\n",
      "0.7717095439616515\n",
      "Had to switch\n",
      "0.21039910382203605 0.7896008961779639\n",
      "Iteration 34 - Full RMSE: 2.0203651310337927, Cluster 1 RMSE: 3.04371753807367, Cluster 2 RMSE: 1.026749611651137e-09\n",
      "Iteration 34 - Train RMSE: 2.580546051974017, Cluster 1 RMSE: 4.110333143455295, Cluster 2 RMSE: 8.598489991423973e-10\n",
      "0.7434432727165823\n",
      "0.7685395111566192\n",
      "Had to switch\n",
      "0.21480949589989962 0.7851905041001004\n",
      "Iteration 35 - Full RMSE: 2.0179684992630103, Cluster 1 RMSE: 2.925191177845589, Cluster 2 RMSE: 9.655035210990236e-10\n",
      "Iteration 35 - Train RMSE: 2.5645909777485123, Cluster 1 RMSE: 4.14447271111342, Cluster 2 RMSE: 8.038884508679768e-10\n",
      "0.7343203915137322\n",
      "0.7731571655077452\n",
      "Had to switch\n",
      "0.1723919266178529 0.827608073382147\n",
      "Iteration 36 - Full RMSE: 3.651134683379355, Cluster 1 RMSE: 4.955660532605911, Cluster 2 RMSE: 1.0371813034076786e-09\n",
      "Iteration 36 - Train RMSE: 2.679469000047016, Cluster 1 RMSE: 4.126721598419606, Cluster 2 RMSE: 8.265577875466667e-10\n",
      "0.5781583931868702\n",
      "0.6949317641794399\n",
      "Correct\n",
      "0.24916952155773991 0.7508304784422601\n",
      "Iteration 37 - Full RMSE: 3.403628505278973, Cluster 1 RMSE: 4.738364655552984, Cluster 2 RMSE: 9.26998517724913e-10\n",
      "Iteration 37 - Train RMSE: 2.2357131794550407, Cluster 1 RMSE: 3.712959756891759, Cluster 2 RMSE: 8.383815475926224e-10\n",
      "0.4637862794933256\n",
      "0.8146165043051365\n",
      "Correct\n",
      "0.2401237347853652 0.7598762652146348\n",
      "Iteration 38 - Full RMSE: 2.156466853230016, Cluster 1 RMSE: 2.9772063351100675, Cluster 2 RMSE: 7.821245191759174e-10\n",
      "Iteration 38 - Train RMSE: 2.4313314972332676, Cluster 1 RMSE: 4.023122403144886, Cluster 2 RMSE: 7.916746614221961e-10\n",
      "0.648408341661503\n",
      "0.7989130896126626\n",
      "Had to switch\n",
      "0.19094741215970518 0.8090525878402948\n",
      "Iteration 39 - Full RMSE: 1.8883670598172455, Cluster 1 RMSE: 2.9803826667569497, Cluster 2 RMSE: 9.556360358470847e-10\n",
      "Iteration 39 - Train RMSE: 2.7408851419163325, Cluster 1 RMSE: 4.282075126782758, Cluster 2 RMSE: 8.359849617057117e-10\n",
      "0.788463902981245\n",
      "0.7366992955844502\n",
      "Had to switch\n",
      "0.22472518169676742 0.7752748183032326\n",
      "Iteration 40 - Full RMSE: 2.135476333148496, Cluster 1 RMSE: 3.180628192249839, Cluster 2 RMSE: 8.946283111640911e-10\n",
      "Iteration 40 - Train RMSE: 2.510896814229154, Cluster 1 RMSE: 4.074982117856816, Cluster 2 RMSE: 8.212321859015394e-10\n",
      "0.6838769039374346\n",
      "0.7850840277325453\n",
      "Correct\n",
      "0.1999450202860029 0.800054979713997\n",
      "Iteration 41 - Full RMSE: 4.260977267055473, Cluster 1 RMSE: 5.647272784000874, Cluster 2 RMSE: 8.817374044852929e-10\n",
      "Iteration 41 - Train RMSE: 2.3142196036510967, Cluster 1 RMSE: 3.719003536813376, Cluster 2 RMSE: 7.559999331972368e-10\n",
      "0.5339447426270403\n",
      "0.7462847523480349\n",
      "Average RMSE over 40 splits: 3.087280736612734\n",
      "Average RMSE over 40 splits: 2.4921504302847226\n",
      "Average RMSE over 40 splits: 0.6370177344933567\n",
      "Average RMSE over 40 splits: 0.7893815139143531\n"
     ]
    }
   ],
   "source": [
    "# Loop to evaluate RMSE over multiple splits\n",
    "\n",
    "from sklearn.metrics import r2_score\n",
    "\n",
    "sum_test = 0\n",
    "sum_train = 0\n",
    "\n",
    "sum_r2 = 0\n",
    "sum_r2_train = 0\n",
    "\n",
    "for i in range(0, 41):\n",
    "    # Split the data\n",
    "    x_train, x_test, y_train, y_test = train_test_split(X, y, random_state=i)\n",
    "    filtered_indices = x_test[:, 1] < 61  # Create a boolean mask for the condition\n",
    "\n",
    "    # Apply the mask to both x_test and y_test\n",
    "    x_test_filtered = x_test[filtered_indices]  # Filter x_test\n",
    "    y_test_filtered = y_test[filtered_indices]\n",
    "\n",
    "    # Train and predict\n",
    "    best_model = training_model(x_train, y_train)\n",
    "    y_pred_full, y1_pred_knr, y2_pred, idx1, idx2 = best_model(x_test)\n",
    "\n",
    "    y_pred_train, y1_pred_train, y2_pred_train, idx1_train, idx2_train = best_model(x_train)\n",
    "\n",
    "    # Calculate RMSE for full test set, cluster 1, and cluster 2\n",
    "    rmse_full = rmse(y_test, y_pred_full)\n",
    "    rmse_cluster1 = rmse(y_test[idx1], y1_pred_knr)\n",
    "    rmse_cluster2 = rmse(y_test[idx2], y2_pred)\n",
    "\n",
    "    rmse_full_train = rmse(y_train, y_pred_train)\n",
    "    rmse_cluster1_train = rmse(y_train[idx1_train], y1_pred_train)\n",
    "    rmse_cluster2_train = rmse(y_train[idx2_train], y2_pred_train)\n",
    "\n",
    "    # Print RMSE for each iteration\n",
    "    print(f\"Iteration {i+1} - Full RMSE: {rmse_full}, Cluster 1 RMSE: {rmse_cluster1}, Cluster 2 RMSE: {rmse_cluster2}\")\n",
    "    print(f\"Iteration {i+1} - Train RMSE: {rmse_full_train}, Cluster 1 RMSE: {rmse_cluster1_train}, Cluster 2 RMSE: {rmse_cluster2_train}\")\n",
    "    print(r2_score(y_test, y_pred_full))\n",
    "    print(r2_score(y_train, y_pred_train))\n",
    "\n",
    "    # Accumulate RMSE for average\n",
    "    sum_test += rmse_full\n",
    "    sum_train += rmse_full_train\n",
    "    sum_r2 += r2_score(y_test, y_pred_full)\n",
    "    sum_r2_train += r2_score(y_train, y_pred_train)\n",
    "\n",
    "# Print average RMSE\n",
    "print(f\"Average RMSE over 40 splits: {sum_test / 40}\")\n",
    "print(f\"Average RMSE over 40 splits: {sum_train / 40}\")\n",
    "print(f\"Average RMSE over 40 splits: {sum_r2 / 40}\")\n",
    "print(f\"Average RMSE over 40 splits: {sum_r2_train / 40}\")\n"
   ]
  },
  {
   "cell_type": "code",
   "execution_count": null,
   "metadata": {},
   "outputs": [],
   "source": []
  }
 ],
 "metadata": {
  "kernelspec": {
   "display_name": "base",
   "language": "python",
   "name": "python3"
  },
  "language_info": {
   "codemirror_mode": {
    "name": "ipython",
    "version": 3
   },
   "file_extension": ".py",
   "mimetype": "text/x-python",
   "name": "python",
   "nbconvert_exporter": "python",
   "pygments_lexer": "ipython3",
   "version": "3.9.7"
  }
 },
 "nbformat": 4,
 "nbformat_minor": 2
}
